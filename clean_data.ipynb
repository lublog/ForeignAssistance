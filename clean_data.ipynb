{
 "cells": [
  {
   "cell_type": "markdown",
   "source": [
    "### 数据清理"
   ],
   "metadata": {
    "collapsed": false
   },
   "id": "3c1c9ea11a9c1994"
  },
  {
   "cell_type": "markdown",
   "source": [
    "> 这个笔记本主要是检查数据的可用性, 将原始数据转换为可用的数据集, 并将其保存到文件中, 以便以后使用."
   ],
   "metadata": {
    "collapsed": false
   },
   "id": "37465c86f7f8ec9e"
  },
  {
   "cell_type": "markdown",
   "source": [
    "#### 检查各个数据来源的国家列表"
   ],
   "metadata": {
    "collapsed": false
   },
   "id": "44c0b0237648ee33"
  },
  {
   "cell_type": "code",
   "execution_count": null,
   "outputs": [],
   "source": [
    "import pandas as pd\n",
    "import logging\n",
    "import numpy as np"
   ],
   "metadata": {
    "collapsed": false
   },
   "id": "2ae04fb1c3233295"
  },
  {
   "cell_type": "code",
   "execution_count": null,
   "outputs": [],
   "source": [
    "'''\n",
    "全局变量\n",
    "'''\n",
    "LOGGER_LEVEL = logging.DEBUG"
   ],
   "metadata": {
    "collapsed": false
   },
   "id": "f329aed0d6e82d1f"
  },
  {
   "cell_type": "markdown",
   "source": [
    "#### 设置日志"
   ],
   "metadata": {
    "collapsed": false
   },
   "id": "e7dd3915cc143cbe"
  },
  {
   "cell_type": "code",
   "execution_count": null,
   "outputs": [],
   "source": [
    "'''\n",
    "配置日志记录\n",
    "'''\n",
    "\n",
    "\n",
    "# 初始化日志记录器\n",
    "def setup_logger(logger_name=None):\n",
    "    # 创建一个名为 'console_logger' 的日志记录器，用于输出调试信息到控制台\n",
    "    console_logger = logging.getLogger(logger_name)\n",
    "    console_logger.setLevel(logging.DEBUG)  # 设置日志级别为 DEBUG，以便输出所有级别的日志消息\n",
    "\n",
    "    # 删除现有的处理程序\n",
    "    for handler in console_logger.handlers[:]:\n",
    "        console_logger.removeHandler(handler)\n",
    "\n",
    "    console_handler = logging.StreamHandler()  # 创建一个输出到控制台的处理程序\n",
    "    console_formatter = logging.Formatter('%(asctime)s - %(name)s - %(levelname)s - %(message)s')  # 定义日志消息的格式\n",
    "    console_handler.setFormatter(console_formatter)  # 为处理程序设置格式\n",
    "\n",
    "    console_logger.addHandler(console_handler)  # 将处理程序添加到日志记录器\n",
    "\n",
    "    # 创建一个名为 'file_logger' 的日志记录器，用于将重要的日志消息写入文件\n",
    "    file_logger = logging.getLogger(logger_name)\n",
    "    file_logger.setLevel(logging.INFO)  # 设置日志级别为 INFO，以便只输出 INFO 级别及以上的日志消息\n",
    "\n",
    "    # 删除现有的处理程序\n",
    "    for handler in file_logger.handlers[:]:\n",
    "        file_logger.removeHandler(handler)\n",
    "    file_handler = logging.FileHandler('log/important_data.log')  # 创建一个输出到文件的处理程序\n",
    "    file_formatter = logging.Formatter('%(asctime)s - %(name)s - %(levelname)s - %(message)s')  # 定义日志消息的格式\n",
    "    file_handler.setFormatter(file_formatter)  # 为处理程序设置格式\n",
    "\n",
    "    file_logger.addHandler(file_handler)  # 将处理程序添加到日志记录器\n",
    "\n",
    "    return console_logger, file_logger\n",
    "\n",
    "\n",
    "console_logger, file_logger = setup_logger('data_cleaning')  # 设置日志系统\n"
   ],
   "metadata": {
    "collapsed": false
   },
   "id": "312a974504460248"
  },
  {
   "cell_type": "markdown",
   "source": [
    "#### tools functions"
   ],
   "metadata": {
    "collapsed": false
   },
   "id": "5004829473a81091"
  },
  {
   "cell_type": "code",
   "execution_count": null,
   "outputs": [],
   "source": [
    "# 将缺失值替换为0\n",
    "def replace_nan_with_zero(df, column_name):\n",
    "    # 步骤1: 找到所有独特的国家名称\n",
    "    unique_countries = df['country_name'].unique()\n",
    "\n",
    "    # 步骤2: 为每个国家创建一个包含所有年份的新数据帧\n",
    "    all_frames = []  # 用于存储每个国家的新数据帧\n",
    "\n",
    "    for country in unique_countries:\n",
    "        # 获取该国家的现有数据\n",
    "        country_data = df[df['country_name'] == country]\n",
    "\n",
    "        # 创建一个包含所有年份的新数据帧\n",
    "        all_years = pd.DataFrame({'year': np.arange(2006, 2022)})  # 假设所有国家的年份范围都是2006到2021\n",
    "        all_years['country_name'] = country  # 设置国家名称\n",
    "        all_years = all_years.merge(country_data, on=['country_name', 'year'], how='left')  # 合并现有数据\n",
    "        all_years[column_name] = all_years[column_name].fillna(0)  # 将缺失的fsi_index值设置为0\n",
    "\n",
    "        all_frames.append(all_years)\n",
    "\n",
    "    # 步骤3: 将这些新数据帧合并为一个大的数据帧\n",
    "    final_df = pd.concat(all_frames, ignore_index=True)\n",
    "\n",
    "    return final_df"
   ],
   "metadata": {
    "collapsed": false
   },
   "id": "b0d67aa556e9beb9"
  },
  {
   "cell_type": "markdown",
   "source": [
    "#### 1.fsi_index.csv"
   ],
   "metadata": {
    "collapsed": false
   },
   "id": "bce891b0eb669003"
  },
  {
   "cell_type": "code",
   "execution_count": null,
   "outputs": [],
   "source": [
    "df = pd.read_csv('data/fsi_index.csv')\n",
    "# 重命名列名\n",
    "df.columns = ['country_name', 'year', 'fsi_index']\n",
    "# 修改值的类型\n",
    "df = df.convert_dtypes()\n",
    "\n",
    "# 筛选2006-2021年的数据, 并按照国家名称和年份排序\n",
    "df = df[(df['year'] >= 2006) & (df['year'] <= 2021)]\n",
    "# 删除字符串两端的空格\n",
    "df['country_name'] = df['country_name'].str.strip()\n",
    "\n",
    "df.sort_values(by=['country_name', 'year'], inplace=True)\n",
    "# 填补缺失值\n",
    "df = replace_nan_with_zero(df, 'fsi_index')\n",
    "\n",
    "# 导入到cleaned_data/fsi_index.csv文件中\n",
    "df.to_csv('cleaned_data/fsi_index.csv', index=False)"
   ],
   "metadata": {
    "collapsed": false
   },
   "id": "5c9260f939b09e84"
  },
  {
   "cell_type": "markdown",
   "source": [
    "##### 1.1 删除数据严重缺失的国家并填充少量缺失的数据"
   ],
   "metadata": {
    "collapsed": false
   },
   "id": "4e938b0e6a045b8a"
  },
  {
   "cell_type": "code",
   "execution_count": 114,
   "outputs": [],
   "source": [
    "df = pd.read_csv('cleaned_data/result.csv')\n",
    "\n",
    "country_list = df['受援对象国'].unique()\n",
    "#将0.0替换为缺失值\n",
    "df['对象国安全系数指标'] = df['对象国安全系数指标'].replace(0.0, np.nan)\n",
    "df['HDI'] = df['HDI'].replace(0.0, np.nan)\n",
    "\n",
    "for country in country_list:\n",
    "    country_df = df[df['受援对象国'] == country]\n",
    "    # 如果出现大于5个缺失值, 则删除该国家的数据\n",
    "    if country_df['对象国安全系数指标'].isnull().sum() > 5:\n",
    "        df = df[df['受援对象国'] != country]\n",
    "    elif country_df['HDI'].isnull().sum() > 5:\n",
    "        df = df[df['受援对象国'] != country]\n",
    "\n",
    "# 重索引\n",
    "df.reset_index(drop=True, inplace=True)\n",
    "# 填补缺失值\n",
    "zero_df = df[df['对象国安全系数指标'].isnull()]\n",
    "\n",
    "for i in zero_df.index:\n",
    "    if df.loc[i, '年度'] == 2006:\n",
    "        df.loc[i, '对象国安全系数指标'] = df.loc[i + 1, '对象国安全系数指标']\n",
    "        df.loc[i, 'HDI'] = df.loc[i + 1, 'HDI']\n",
    "    elif df.loc[i, '年度'] == 2021:\n",
    "        df.loc[i, '对象国安全系数指标'] = df.loc[i - 1, '对象国安全系数指标']\n",
    "        df.loc[i, 'HDI'] = df.loc[i - 1, 'HDI']\n",
    "    else:\n",
    "        df.loc[i, '对象国安全系数指标'] = (df.loc[i - 1, '对象国安全系数指标'] + df.loc[\n",
    "            i + 1, '对象国安全系数指标']) / 2\n",
    "        df.loc[i, 'HDI'] = (df.loc[i - 1, 'HDI'] + df.loc[i + 1, 'HDI']) / 2\n",
    "\n",
    "# 年度,受援对象国,受援对象国代码,援助类别,经济援助金额(美元),军事援助金额(美元),总援助金额(美元),SDG,HDI,对象国经济发展指标,对象国安全系数指标,对象国发展-安全综合指数\n",
    "# 7. 计算每个国家每年的经济发展指标(归一化的SDG+HDI/2)\n",
    "# 计算sdg归一化指标\n",
    "max_value = df['SDG'].max()\n",
    "min_value = df['SDG'].min()\n",
    "\n",
    "# 手动补充缺失值\n",
    "null_df = df[df['HDI'].isnull()]\n",
    "for i in null_df.index:\n",
    "    df.loc[i, 'HDI'] = 0.581\n",
    "# todo 如果其中一个指标缺失，如何处理？\n",
    "df['对象国经济发展指标'] = ((df['SDG'] - min_value) / (max_value - min_value) + df['HDI']) / 2\n",
    "\n",
    "# 8.计算每个国家每年的发展-安全综合指数(归一化的FSI+经济发展指标/2)\n",
    "max_value = df['对象国安全系数指标'].max()\n",
    "min_value = df['对象国安全系数指标'].min()\n",
    "\n",
    "df['对象国发展-安全综合指数'] = (1 - (df['对象国安全系数指标'] - min_value) / (max_value - min_value)\n",
    "                                 + df['对象国经济发展指标']) / 2\n",
    "\n",
    "df.to_csv('cleaned_data/test_all_chinese.csv', index=False)\n"
   ],
   "metadata": {
    "collapsed": false,
    "ExecuteTime": {
     "end_time": "2023-10-08T07:59:52.321099Z",
     "start_time": "2023-10-08T07:59:52.245885Z"
    }
   },
   "id": "5e0b81f1bbbfc79e"
  },
  {
   "cell_type": "markdown",
   "source": [
    "#### 2.hdi_index.csv"
   ],
   "metadata": {
    "collapsed": false
   },
   "id": "aaf4acef5acad29a"
  },
  {
   "cell_type": "code",
   "execution_count": 95,
   "outputs": [
    {
     "name": "stdout",
     "output_type": "stream",
     "text": [
      "Empty DataFrame\n",
      "Columns: [country_code, country_name, year, hdi_index]\n",
      "Index: []\n"
     ]
    }
   ],
   "source": [
    "df = pd.read_csv('data/hdi_index.csv')\n",
    "\n",
    "# 删除不需要的列hdicode,region,hdi_rank_2021\n",
    "df.drop(['hdicode', 'region', 'hdi_rank_2021'], axis=1, inplace=True)\n",
    "# 修改列名\n",
    "df.rename(columns={'iso3': 'country_code', 'country': 'country_name'}, inplace=True)\n",
    "# 将缺失值替换为0\n",
    "df.fillna(0.0, inplace=True)\n",
    "# 将各个年份的index值由多个列转换为一列, 原始列名为hdi_2006,hdi_2007,hdi_2008,hdi_2009,hdi_2010,\n",
    "# hdi_2011,hdi_2012,hdi_2013,hdi_2014,hdi_2015,hdi_2016,hdi_2017,hdi_2018,hdi_2019,hdi_2020,hdi_2021\n",
    "# 需要转换为year一个列\n",
    "df = pd.melt(df, id_vars=['country_code', 'country_name'], var_name='year', value_name='hdi_index')\n",
    "# 排序\n",
    "df.sort_values(by=['country_name', 'year'], inplace=True)\n",
    "# 将year列中的hdi_删除, 并将其余的值转换为int类型\n",
    "df['year'] = df['year'].str.replace('hdi_', '').astype(int)\n",
    "# 修改值的类型\n",
    "df = df.convert_dtypes()\n",
    "\n",
    "# 导入到cleaned_data/hdi_index.csv文件中\n",
    "df.to_csv('cleaned_data/hdi_index.csv', index=False)"
   ],
   "metadata": {
    "collapsed": false,
    "ExecuteTime": {
     "end_time": "2023-10-08T07:19:23.300524Z",
     "start_time": "2023-10-08T07:19:23.258889Z"
    }
   },
   "id": "23f2362b26914919"
  },
  {
   "cell_type": "markdown",
   "source": [
    "#### 3.SDG_all.csv"
   ],
   "metadata": {
    "collapsed": false
   },
   "id": "5d5666f06dd4f84d"
  },
  {
   "cell_type": "code",
   "execution_count": null,
   "outputs": [],
   "source": [
    "df = pd.read_csv('data/SDG_all.csv')\n",
    "\n",
    "# 保留'Country Code ISO3', 'Country', 'year', 'SDG Index Score'\n",
    "# 并将他们重命名为'country_code', 'country_name', 'year', 'sdg_index'\n",
    "df = df[['Country Code ISO3', 'Country', 'year', 'SDG Index Score']]\n",
    "df.columns = ['country_code', 'country_name', 'year', 'sdg_index']\n",
    "# 修改值的类型\n",
    "df = df.convert_dtypes()\n",
    "\n",
    "# 筛选2006-2021年的数据, 并按照国家名称和年份排序\n",
    "df = df[(df['year'] >= 2006) & (df['year'] <= 2021)]\n",
    "df.sort_values(by=['country_name', 'year'], inplace=True)\n",
    "\n",
    "# 导出到cleaned_data/sdg_index.csv文件中\n",
    "df.to_csv('cleaned_data/sdg_index.csv', index=False)"
   ],
   "metadata": {
    "collapsed": false
   },
   "id": "83d5f778cd2fe45"
  },
  {
   "cell_type": "markdown",
   "source": [
    "#### 4. amount.csv"
   ],
   "metadata": {
    "collapsed": false
   },
   "id": "2ef88fc7980132ab"
  },
  {
   "cell_type": "code",
   "execution_count": null,
   "outputs": [],
   "source": [
    "df = pd.read_csv('data/us_foreign_aid_part.csv')\n",
    "\n",
    "# 删除'1976tq'对应的行\n",
    "df = df[df['Fiscal Year'] != '1976tq']\n",
    "\n",
    "# 修改列名\n",
    "df.columns = ['country_code', 'country_name', 'year', 'assistance_type', 'amount']\n",
    "\n",
    "# 将'year'列的值转换为int类型\n",
    "df['year'] = df['year'].astype(int)\n",
    "# 修改值的类型\n",
    "df = df.convert_dtypes()\n",
    "\n",
    "# 筛选2006-2021年的数据, 并按照国家名称和年份排序\n",
    "df = df[(df['year'] >= 2006) & (df['year'] <= 2021)]\n",
    "df.sort_values(by=['country_name', 'year'], inplace=True)\n",
    "\n",
    "# 将同一国家同一年份同一类型的数据合并为一行\n",
    "# 使用 groupby 方法按 country_code, country_name, year 和 assistance_type 进行分组\n",
    "grouped = df.groupby(['country_code', 'country_name', 'year', 'assistance_type'])\n",
    "\n",
    "# 对每个组的 amount 列求和\n",
    "summed = grouped['amount'].sum().reset_index()\n",
    "\n",
    "summed.sort_values(by=['country_name', 'year'], inplace=True)\n",
    "# # 将缺失值替换为0\n",
    "# summed = replace_nan_with_zero(summed, 'amount')\n",
    "# 导出到cleaned_data/amount.csv文件中\n",
    "summed.to_csv('cleaned_data/test_amount.csv', index=False)\n"
   ],
   "metadata": {
    "collapsed": false
   },
   "id": "c4167ecbfa0b983d"
  },
  {
   "cell_type": "markdown",
   "source": [
    "#### 筛选出一个每个指标都有的国家列表"
   ],
   "metadata": {
    "collapsed": false
   },
   "id": "ddc09443d5e00224"
  },
  {
   "cell_type": "code",
   "execution_count": 101,
   "outputs": [],
   "source": [
    "'''\n",
    "每个数据集都有一个国家列表, 但是每个数据集的国家列表都不同.\n",
    "因此, 我们需要找到所有数据集中的国家列表, 然后找到所有数据集中的国家列表的交集.\n",
    "'''\n",
    "\n",
    "# 数据集列表\n",
    "data_sets = [\n",
    "    'cleaned_data/fsi_index.csv',\n",
    "    'cleaned_data/hdi_index.csv',\n",
    "    'cleaned_data/sdg_index.csv',\n",
    "    'cleaned_data/amount.csv'\n",
    "]\n",
    "\n",
    "'''\n",
    "读取每个数据集中的国家代码,如果有重复的国家,则只保留一个,\n",
    "其中fsi数据集没有国家代码, 只有国家名称, 因此需要将国家名称转换为国家代码\n",
    "'''\n",
    "\n",
    "# 从上面的输出中可以看出, fsi_index.csv没有country_code列, 只有country_name列\n",
    "# 我们需要先将country_name转换为country_code, 然后再进行合并\n",
    "\n",
    "# 读取fsi_index.csv\n",
    "df = pd.read_csv('cleaned_data/fsi_index.csv')\n",
    "# 读取country.csv\n",
    "country_df = pd.read_csv('cleaned_data/country.csv')\n",
    "# 将fsi_index.csv中的country_name列与country.csv中的country_name列进行合并\n",
    "df = df.merge(country_df, on='country_name', how='left')\n",
    "# year country_name  fsi_index country_code_x country_code_y\n",
    "# 删除country_code_x列, 并将country_code_y列重命名为country_code\n",
    "df.drop(['country_code_x'], axis=1, inplace=True)\n",
    "df.rename(columns={'country_code_y': 'country_code'}, inplace=True)\n",
    "\n",
    "# 删除country_code为空值的行\n",
    "df = df[df['country_code'].notnull()]\n",
    "\n",
    "df.to_csv('cleaned_data/fsi_index.csv', index=False)\n",
    "\n",
    "# 求不同数据集中的国家列表的交集\n",
    "# 读取第一个数据集\n",
    "df = pd.read_csv(data_sets[0])\n",
    "# 读取第二个数据集\n",
    "df2 = pd.read_csv(data_sets[1])\n",
    "# 读取第三个数据集\n",
    "df3 = pd.read_csv(data_sets[2])\n",
    "# 读取第四个数据集\n",
    "df4 = pd.read_csv(data_sets[3])\n",
    "\n",
    "# 将第一个数据集中的国家列表与第二个数据集中的国家列表进行合并\n",
    "df = df.merge(df2, on=['country_code', 'country_name', 'year'], how='inner')\n",
    "# 将第一个数据集中的国家列表与第三个数据集中的国家列表进行合并\n",
    "df = df.merge(df3, on=['country_code', 'country_name', 'year'], how='inner')\n",
    "# 将第一个数据集中的国家列表与第四个数据集中的国家列表进行合并\n",
    "df = df.merge(df4, on=['country_code', 'country_name', 'year'], how='inner')\n",
    "\n",
    "# year,country_name,fsi_index,country_code,hdi_index,sdg_index,assistance_type,amount\n",
    "# 改变列的顺序\n",
    "df = df[['year', 'country_name', 'country_code', 'fsi_index', 'hdi_index', 'sdg_index', 'assistance_type', 'amount']]\n",
    "\n",
    "# 将结果保存到cleaned_data/country_code.csv文件中\n",
    "df.to_csv('cleaned_data/test_all.csv', index=False)"
   ],
   "metadata": {
    "collapsed": false,
    "ExecuteTime": {
     "end_time": "2023-10-08T07:24:29.038711Z",
     "start_time": "2023-10-08T07:24:21.493172Z"
    }
   },
   "id": "ba810db249e901f7"
  },
  {
   "cell_type": "code",
   "execution_count": null,
   "outputs": [],
   "source": [],
   "metadata": {
    "collapsed": false
   },
   "id": "98e6ff4eb6f4f12d"
  },
  {
   "cell_type": "markdown",
   "source": [
    "#### Test"
   ],
   "metadata": {
    "collapsed": false
   },
   "id": "6ba6cf6b43bf1fed"
  },
  {
   "cell_type": "code",
   "execution_count": null,
   "outputs": [],
   "source": [
    "import pandas as pd\n",
    "\n",
    "# 创建一个宽格式的 DataFrame\n",
    "df = pd.DataFrame({'A': ['a1', 'a2', 'a3'],\n",
    "                   'B': ['b1', 'b2', 'b3'],\n",
    "                   'C': ['c1', 'c2', 'c3']})\n",
    "\n",
    "# 融化 DataFrame，保留 'A' 列，融化 'B' 和 'C' 列\n",
    "melted_df = pd.melt(df, id_vars=['A'], value_vars=['B', 'C'])\n",
    "\n",
    "# 输出结果 DataFrame\n",
    "print(melted_df)"
   ],
   "metadata": {
    "collapsed": false
   },
   "id": "d8b02e0f7482b88c"
  },
  {
   "cell_type": "code",
   "execution_count": null,
   "outputs": [],
   "source": [
    "df = pd.read_csv('data/country.csv')\n",
    "print(df.columns)\n",
    "df = df.convert_dtypes()\n",
    "print(df.dtypes)\n",
    "print(df.head())\n",
    "# 去除字符串两端的空格\n",
    "df['country_name'] = df['country_name'].str.strip()\n",
    "df['country_code'] = df['country_code'].str.strip()\n",
    "df.to_csv('cleaned_data/country.csv', index=False)\n"
   ],
   "metadata": {
    "collapsed": false
   },
   "id": "64eb047f2435c8cf"
  },
  {
   "cell_type": "code",
   "execution_count": null,
   "outputs": [],
   "source": [
    "#读取amount.csv, 查找缺失的国家代码\n",
    "amount_df = pd.read_csv('cleaned_data/test_amount.csv')\n",
    "amount_df = amount_df[amount_df['country_name'].isin(null_country_name)]\n",
    "amount_df = amount_df[['country_code', 'country_name']]\n",
    "amount_df.drop_duplicates(inplace=True)\n",
    "print(amount_df)\n",
    "# 将amount_df中的country_code列与country.csv中的country_name列进行合并(求并集)\n",
    "country_df = pd.concat([country_df, amount_df], ignore_index=True)\n",
    "country_df.drop_duplicates(inplace=True)\n",
    "country_df.to_csv('cleaned_data/country.csv', index=False)"
   ],
   "metadata": {
    "collapsed": false
   },
   "id": "4c16de1e3485265e"
  },
  {
   "cell_type": "code",
   "execution_count": null,
   "outputs": [],
   "source": [
    "'''\n",
    "将这些添加进country.csv\n",
    "'Brunei Darussalam', BRN\n",
    "\n",
    " 'Congo Democratic Republic', COD\n",
    " 'Guinea Bissau', GNB\n",
    "\n",
    " 'Macedonia', MKD\n",
    "\n",
    "'Micronesia', FSM\n",
    " 'North Korea', PRK\n",
    "\n",
    " 'Palestine', PSE\n",
    "\n",
    "'Slovakia', SVK\n",
    "\n",
    "'South Korea', KOR\n",
    "'''\n",
    "\n",
    "df = pd.read_csv('cleaned_data/country.csv')\n",
    "\n",
    "# 读取json字符串\n",
    "import json\n",
    "\n",
    "with open('data/list.json', 'r') as f:\n",
    "    country_code = json.load(f)\n",
    "    print(country_code)\n",
    "\n",
    "# 将json字符串转换为DataFrame\n",
    "country_code_df = pd.DataFrame(country_code)\n",
    "\n",
    "# 将country_code_df中的country_code列与country.csv中的country_name列进行合并(求并集)\n",
    "country_df = pd.concat([df, country_code_df], ignore_index=True)\n",
    "country_df.drop_duplicates(inplace=True)\n",
    "# 排序\n",
    "country_df.sort_values(by=['country_name'], inplace=True)\n",
    "country_df.to_csv('cleaned_data/country.csv', index=False)"
   ],
   "metadata": {
    "collapsed": false
   },
   "id": "e837fa45ee17f471"
  },
  {
   "cell_type": "code",
   "execution_count": null,
   "outputs": [],
   "source": [
    "df = pd.read_csv('cleaned_data/all.csv')\n"
   ],
   "metadata": {
    "collapsed": false
   },
   "id": "b36c0a219518e6fd"
  }
 ],
 "metadata": {
  "kernelspec": {
   "display_name": "Python 3",
   "language": "python",
   "name": "python3"
  },
  "language_info": {
   "codemirror_mode": {
    "name": "ipython",
    "version": 2
   },
   "file_extension": ".py",
   "mimetype": "text/x-python",
   "name": "python",
   "nbconvert_exporter": "python",
   "pygments_lexer": "ipython2",
   "version": "2.7.6"
  }
 },
 "nbformat": 4,
 "nbformat_minor": 5
}
